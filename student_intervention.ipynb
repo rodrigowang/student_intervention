{
 "metadata": {
  "kernelspec": {
   "display_name": "Python 2",
   "language": "python",
   "name": "python2"
  },
  "language_info": {
   "codemirror_mode": {
    "name": "ipython",
    "version": 2
   },
   "file_extension": ".py",
   "mimetype": "text/x-python",
   "name": "python",
   "nbconvert_exporter": "python",
   "pygments_lexer": "ipython2",
   "version": "2.7.11"
  },
  "name": "",
  "signature": "sha256:324d802e5f439c51a29948778632b83ce66c43d2d86d37e860abe9b985a84f10"
 },
 "nbformat": 3,
 "nbformat_minor": 0,
 "worksheets": [
  {
   "cells": [
    {
     "cell_type": "markdown",
     "metadata": {},
     "source": [
      "# Machine Learning Engineer Nanodegree\n",
      "## Supervised Learning\n",
      "## Project 2: Building a Student Intervention System"
     ]
    },
    {
     "cell_type": "markdown",
     "metadata": {},
     "source": [
      "Welcome to the second project of the Machine Learning Engineer Nanodegree! In this notebook, some template code has already been provided for you, and it will be your job to implement the additional functionality necessary to successfully complete this project. Sections that begin with **'Implementation'** in the header indicate that the following block of code will require additional functionality which you must provide. Instructions will be provided for each section and the specifics of the implementation are marked in the code block with a `'TODO'` statement. Please be sure to read the instructions carefully!\n",
      "\n",
      "In addition to implementing code, there will be questions that you must answer which relate to the project and your implementation. Each section where you will answer a question is preceded by a **'Question X'** header. Carefully read each question and provide thorough answers in the following text boxes that begin with **'Answer:'**. Your project submission will be evaluated based on your answers to each of the questions and the implementation you provide.  \n",
      "\n",
      ">**Note:** Code and Markdown cells can be executed using the **Shift + Enter** keyboard shortcut. In addition, Markdown cells can be edited by typically double-clicking the cell to enter edit mode."
     ]
    },
    {
     "cell_type": "markdown",
     "metadata": {},
     "source": [
      "### Question 1 - Classification vs. Regression\n",
      "*Your goal for this project is to identify students who might need early intervention before they fail to graduate. Which type of supervised learning problem is this, classification or regression? Why?*"
     ]
    },
    {
     "cell_type": "markdown",
     "metadata": {},
     "source": [
      "**Answer: ** Esse \u00e9 um problema de classifica\u00e7\u00e3o porque a vari\u00e1vel que estamos prevendo \u00e9 categ\u00f3rica e n\u00e3o cont\u00ednua."
     ]
    },
    {
     "cell_type": "markdown",
     "metadata": {},
     "source": [
      "## Exploring the Data\n",
      "Run the code cell below to load necessary Python libraries and load the student data. Note that the last column from this dataset, `'passed'`, will be our target label (whether the student graduated or didn't graduate). All other columns are features about each student."
     ]
    },
    {
     "cell_type": "code",
     "collapsed": false,
     "input": [
      "# Import libraries\n",
      "import numpy as np\n",
      "import pandas as pd\n",
      "import matplotlib.pyplot as plt\n",
      "from time import time\n",
      "from sklearn.metrics import f1_score\n",
      "\n",
      "# Pretty display for notebooks\n",
      "%matplotlib inline\n",
      "\n",
      "# Read student data\n",
      "student_data = pd.read_csv(\"student-data.csv\")\n",
      "print \"Student data read successfully!\""
     ],
     "language": "python",
     "metadata": {},
     "outputs": [
      {
       "output_type": "stream",
       "stream": "stdout",
       "text": [
        "Student data read successfully!\n"
       ]
      }
     ],
     "prompt_number": 12
    },
    {
     "cell_type": "markdown",
     "metadata": {},
     "source": [
      "### Implementation: Data Exploration\n",
      "Let's begin by investigating the dataset to determine how many students we have information on, and learn about the graduation rate among these students. In the code cell below, you will need to compute the following:\n",
      "- The total number of students, `n_students`.\n",
      "- The total number of features for each student, `n_features`.\n",
      "- The number of those students who passed, `n_passed`.\n",
      "- The number of those students who failed, `n_failed`.\n",
      "- The graduation rate of the class, `grad_rate`, in percent (%).\n"
     ]
    },
    {
     "cell_type": "code",
     "collapsed": false,
     "input": [
      "n_students = student_data.shape[0]\n",
      "print(n_students)"
     ],
     "language": "python",
     "metadata": {},
     "outputs": [
      {
       "output_type": "stream",
       "stream": "stdout",
       "text": [
        "395\n"
       ]
      }
     ],
     "prompt_number": 2
    },
    {
     "cell_type": "code",
     "collapsed": false,
     "input": [
      "n_features = len(student_data.columns.values)\n",
      "print(n_features) #n\u00famero de features"
     ],
     "language": "python",
     "metadata": {},
     "outputs": [
      {
       "output_type": "stream",
       "stream": "stdout",
       "text": [
        "31\n"
       ]
      }
     ],
     "prompt_number": 3
    },
    {
     "cell_type": "code",
     "collapsed": false,
     "input": [
      "n_passed = sum(student_data.passed == \"yes\")\n",
      "n_failed = sum(student_data.passed == \"no\")\n",
      "print(n_passed)\n",
      "print(n_failed)"
     ],
     "language": "python",
     "metadata": {},
     "outputs": [
      {
       "output_type": "stream",
       "stream": "stdout",
       "text": [
        "265\n",
        "130\n"
       ]
      }
     ],
     "prompt_number": 4
    },
    {
     "cell_type": "code",
     "collapsed": false,
     "input": [
      "grad_rate = float(n_passed)/float(n_students) * 100\n",
      "\n",
      "# Print the results\n",
      "print \"Total number of students: {}\".format(n_students)\n",
      "print \"Number of features: {}\".format(n_features)\n",
      "print \"Number of students who passed: {}\".format(n_passed)\n",
      "print \"Number of students who failed: {}\".format(n_failed)\n",
      "print \"Graduation rate of the class: {:.2f}%\".format(grad_rate)"
     ],
     "language": "python",
     "metadata": {},
     "outputs": [
      {
       "output_type": "stream",
       "stream": "stdout",
       "text": [
        "Total number of students: 395\n",
        "Number of features: 31\n",
        "Number of students who passed: 265\n",
        "Number of students who failed: 130\n",
        "Graduation rate of the class: 67.09%\n"
       ]
      }
     ],
     "prompt_number": 5
    },
    {
     "cell_type": "markdown",
     "metadata": {},
     "source": [
      "## Preparing the Data\n",
      "In this section, we will prepare the data for modeling, training and testing.\n",
      "\n",
      "### Identify feature and target columns\n",
      "It is often the case that the data you obtain contains non-numeric features. This can be a problem, as most machine learning algorithms expect numeric data to perform computations with.\n",
      "\n",
      "Run the code cell below to separate the student data into feature and target columns to see if any features are non-numeric."
     ]
    },
    {
     "cell_type": "code",
     "collapsed": false,
     "input": [
      "# Extract feature columns\n",
      "feature_cols = list(student_data.columns[:-1])\n",
      "\n",
      "# Extract target column 'passed'\n",
      "target_col = student_data.columns[-1] \n",
      "\n",
      "# Show the list of columns\n",
      "print \"Feature columns:\\n{}\".format(feature_cols)\n",
      "print \"\\nTarget column: {}\".format(target_col)\n",
      "\n",
      "# Separate the data into feature data and target data (X_all and y_all, respectively)\n",
      "X_all = student_data[feature_cols]\n",
      "y_all = student_data[target_col]\n",
      "\n",
      "# Show the feature information by printing the first five rows\n",
      "print \"\\nFeature values:\"\n",
      "print X_all.head(5)"
     ],
     "language": "python",
     "metadata": {},
     "outputs": [
      {
       "output_type": "stream",
       "stream": "stdout",
       "text": [
        "Feature columns:\n",
        "['school', 'sex', 'age', 'address', 'famsize', 'Pstatus', 'Medu', 'Fedu', 'Mjob', 'Fjob', 'reason', 'guardian', 'traveltime', 'studytime', 'failures', 'schoolsup', 'famsup', 'paid', 'activities', 'nursery', 'higher', 'internet', 'romantic', 'famrel', 'freetime', 'goout', 'Dalc', 'Walc', 'health', 'absences']\n",
        "\n",
        "Target column: passed\n",
        "\n",
        "Feature values:\n",
        "  school sex  age address famsize Pstatus  Medu  Fedu     Mjob      Fjob  \\\n",
        "0     GP   F   18       U     GT3       A     4     4  at_home   teacher   \n",
        "1     GP   F   17       U     GT3       T     1     1  at_home     other   \n",
        "2     GP   F   15       U     LE3       T     1     1  at_home     other   \n",
        "3     GP   F   15       U     GT3       T     4     2   health  services   \n",
        "4     GP   F   16       U     GT3       T     3     3    other     other   \n",
        "\n",
        "    ...    higher internet  romantic  famrel  freetime goout Dalc Walc health  \\\n",
        "0   ...       yes       no        no       4         3     4    1    1      3   \n",
        "1   ...       yes      yes        no       5         3     3    1    1      3   \n",
        "2   ...       yes      yes        no       4         3     2    2    3      3   \n",
        "3   ...       yes      yes       yes       3         2     2    1    1      5   \n",
        "4   ...       yes       no        no       4         3     2    1    2      5   \n",
        "\n",
        "  absences  \n",
        "0        6  \n",
        "1        4  \n",
        "2       10  \n",
        "3        2  \n",
        "4        4  \n",
        "\n",
        "[5 rows x 30 columns]\n"
       ]
      }
     ],
     "prompt_number": 6
    },
    {
     "cell_type": "markdown",
     "metadata": {},
     "source": [
      "### Preprocess Feature Columns\n",
      "\n",
      "As you can see, there are several non-numeric columns that need to be converted! Many of them are simply `yes`/`no`, e.g. `internet`. These can be reasonably converted into `1`/`0` (binary) values.\n",
      "\n",
      "Other columns, like `Mjob` and `Fjob`, have more than two values, and are known as _categorical variables_. The recommended way to handle such a column is to create as many columns as possible values (e.g. `Fjob_teacher`, `Fjob_other`, `Fjob_services`, etc.), and assign a `1` to one of them and `0` to all others.\n",
      "\n",
      "These generated columns are sometimes called _dummy variables_, and we will use the [`pandas.get_dummies()`](http://pandas.pydata.org/pandas-docs/stable/generated/pandas.get_dummies.html?highlight=get_dummies#pandas.get_dummies) function to perform this transformation. Run the code cell below to perform the preprocessing routine discussed in this section."
     ]
    },
    {
     "cell_type": "code",
     "collapsed": false,
     "input": [
      "def preprocess_features(X):\n",
      "    ''' Preprocesses the student data and converts non-numeric binary variables into\n",
      "        binary (0/1) variables. Converts categorical variables into dummy variables. '''\n",
      "    \n",
      "    # Initialize new output DataFrame\n",
      "    output = pd.DataFrame(index = X.index)\n",
      "\n",
      "    # Investigate each feature column for the data\n",
      "    for col, col_data in X.iteritems():\n",
      "        \n",
      "        # If data type is non-numeric, replace all yes/no values with 1/0\n",
      "        if col_data.dtype == object:\n",
      "            col_data = col_data.replace(['yes', 'no'], [1, 0])\n",
      "\n",
      "        # If data type is categorical, convert to dummy variables\n",
      "        if col_data.dtype == object:\n",
      "            # Example: 'school' => 'school_GP' and 'school_MS'\n",
      "            col_data = pd.get_dummies(col_data, prefix = col)  \n",
      "        \n",
      "        # Collect the revised columns\n",
      "        output = output.join(col_data)\n",
      "    \n",
      "    return output\n",
      "\n",
      "X_all = preprocess_features(X_all)\n",
      "print \"Processed feature columns ({} total features):\\n{}\".format(len(X_all.columns), list(X_all.columns))"
     ],
     "language": "python",
     "metadata": {},
     "outputs": [
      {
       "output_type": "stream",
       "stream": "stdout",
       "text": [
        "Processed feature columns (48 total features):\n",
        "['school_GP', 'school_MS', 'sex_F', 'sex_M', 'age', 'address_R', 'address_U', 'famsize_GT3', 'famsize_LE3', 'Pstatus_A', 'Pstatus_T', 'Medu', 'Fedu', 'Mjob_at_home', 'Mjob_health', 'Mjob_other', 'Mjob_services', 'Mjob_teacher', 'Fjob_at_home', 'Fjob_health', 'Fjob_other', 'Fjob_services', 'Fjob_teacher', 'reason_course', 'reason_home', 'reason_other', 'reason_reputation', 'guardian_father', 'guardian_mother', 'guardian_other', 'traveltime', 'studytime', 'failures', 'schoolsup', 'famsup', 'paid', 'activities', 'nursery', 'higher', 'internet', 'romantic', 'famrel', 'freetime', 'goout', 'Dalc', 'Walc', 'health', 'absences']\n"
       ]
      }
     ],
     "prompt_number": 7
    },
    {
     "cell_type": "code",
     "collapsed": false,
     "input": [
      "X_all.head()"
     ],
     "language": "python",
     "metadata": {},
     "outputs": [
      {
       "html": [
        "<div style=\"max-width:1500px;overflow:auto;\">\n",
        "<table border=\"1\" class=\"dataframe\">\n",
        "  <thead>\n",
        "    <tr style=\"text-align: right;\">\n",
        "      <th></th>\n",
        "      <th>school_GP</th>\n",
        "      <th>school_MS</th>\n",
        "      <th>sex_F</th>\n",
        "      <th>sex_M</th>\n",
        "      <th>age</th>\n",
        "      <th>address_R</th>\n",
        "      <th>address_U</th>\n",
        "      <th>famsize_GT3</th>\n",
        "      <th>famsize_LE3</th>\n",
        "      <th>Pstatus_A</th>\n",
        "      <th>...</th>\n",
        "      <th>higher</th>\n",
        "      <th>internet</th>\n",
        "      <th>romantic</th>\n",
        "      <th>famrel</th>\n",
        "      <th>freetime</th>\n",
        "      <th>goout</th>\n",
        "      <th>Dalc</th>\n",
        "      <th>Walc</th>\n",
        "      <th>health</th>\n",
        "      <th>absences</th>\n",
        "    </tr>\n",
        "  </thead>\n",
        "  <tbody>\n",
        "    <tr>\n",
        "      <th>0</th>\n",
        "      <td>1</td>\n",
        "      <td>0</td>\n",
        "      <td>1</td>\n",
        "      <td>0</td>\n",
        "      <td>18</td>\n",
        "      <td>0</td>\n",
        "      <td>1</td>\n",
        "      <td>1</td>\n",
        "      <td>0</td>\n",
        "      <td>1</td>\n",
        "      <td>...</td>\n",
        "      <td>1</td>\n",
        "      <td>0</td>\n",
        "      <td>0</td>\n",
        "      <td>4</td>\n",
        "      <td>3</td>\n",
        "      <td>4</td>\n",
        "      <td>1</td>\n",
        "      <td>1</td>\n",
        "      <td>3</td>\n",
        "      <td>6</td>\n",
        "    </tr>\n",
        "    <tr>\n",
        "      <th>1</th>\n",
        "      <td>1</td>\n",
        "      <td>0</td>\n",
        "      <td>1</td>\n",
        "      <td>0</td>\n",
        "      <td>17</td>\n",
        "      <td>0</td>\n",
        "      <td>1</td>\n",
        "      <td>1</td>\n",
        "      <td>0</td>\n",
        "      <td>0</td>\n",
        "      <td>...</td>\n",
        "      <td>1</td>\n",
        "      <td>1</td>\n",
        "      <td>0</td>\n",
        "      <td>5</td>\n",
        "      <td>3</td>\n",
        "      <td>3</td>\n",
        "      <td>1</td>\n",
        "      <td>1</td>\n",
        "      <td>3</td>\n",
        "      <td>4</td>\n",
        "    </tr>\n",
        "    <tr>\n",
        "      <th>2</th>\n",
        "      <td>1</td>\n",
        "      <td>0</td>\n",
        "      <td>1</td>\n",
        "      <td>0</td>\n",
        "      <td>15</td>\n",
        "      <td>0</td>\n",
        "      <td>1</td>\n",
        "      <td>0</td>\n",
        "      <td>1</td>\n",
        "      <td>0</td>\n",
        "      <td>...</td>\n",
        "      <td>1</td>\n",
        "      <td>1</td>\n",
        "      <td>0</td>\n",
        "      <td>4</td>\n",
        "      <td>3</td>\n",
        "      <td>2</td>\n",
        "      <td>2</td>\n",
        "      <td>3</td>\n",
        "      <td>3</td>\n",
        "      <td>10</td>\n",
        "    </tr>\n",
        "    <tr>\n",
        "      <th>3</th>\n",
        "      <td>1</td>\n",
        "      <td>0</td>\n",
        "      <td>1</td>\n",
        "      <td>0</td>\n",
        "      <td>15</td>\n",
        "      <td>0</td>\n",
        "      <td>1</td>\n",
        "      <td>1</td>\n",
        "      <td>0</td>\n",
        "      <td>0</td>\n",
        "      <td>...</td>\n",
        "      <td>1</td>\n",
        "      <td>1</td>\n",
        "      <td>1</td>\n",
        "      <td>3</td>\n",
        "      <td>2</td>\n",
        "      <td>2</td>\n",
        "      <td>1</td>\n",
        "      <td>1</td>\n",
        "      <td>5</td>\n",
        "      <td>2</td>\n",
        "    </tr>\n",
        "    <tr>\n",
        "      <th>4</th>\n",
        "      <td>1</td>\n",
        "      <td>0</td>\n",
        "      <td>1</td>\n",
        "      <td>0</td>\n",
        "      <td>16</td>\n",
        "      <td>0</td>\n",
        "      <td>1</td>\n",
        "      <td>1</td>\n",
        "      <td>0</td>\n",
        "      <td>0</td>\n",
        "      <td>...</td>\n",
        "      <td>1</td>\n",
        "      <td>0</td>\n",
        "      <td>0</td>\n",
        "      <td>4</td>\n",
        "      <td>3</td>\n",
        "      <td>2</td>\n",
        "      <td>1</td>\n",
        "      <td>2</td>\n",
        "      <td>5</td>\n",
        "      <td>4</td>\n",
        "    </tr>\n",
        "  </tbody>\n",
        "</table>\n",
        "<p>5 rows \u00d7 48 columns</p>\n",
        "</div>"
       ],
       "metadata": {},
       "output_type": "pyout",
       "prompt_number": 8,
       "text": [
        "   school_GP  school_MS  sex_F  sex_M  age  address_R  address_U  famsize_GT3  \\\n",
        "0          1          0      1      0   18          0          1            1   \n",
        "1          1          0      1      0   17          0          1            1   \n",
        "2          1          0      1      0   15          0          1            0   \n",
        "3          1          0      1      0   15          0          1            1   \n",
        "4          1          0      1      0   16          0          1            1   \n",
        "\n",
        "   famsize_LE3  Pstatus_A    ...     higher  internet  romantic  famrel  \\\n",
        "0            0          1    ...          1         0         0       4   \n",
        "1            0          0    ...          1         1         0       5   \n",
        "2            1          0    ...          1         1         0       4   \n",
        "3            0          0    ...          1         1         1       3   \n",
        "4            0          0    ...          1         0         0       4   \n",
        "\n",
        "   freetime  goout  Dalc  Walc  health  absences  \n",
        "0         3      4     1     1       3         6  \n",
        "1         3      3     1     1       3         4  \n",
        "2         3      2     2     3       3        10  \n",
        "3         2      2     1     1       5         2  \n",
        "4         3      2     1     2       5         4  \n",
        "\n",
        "[5 rows x 48 columns]"
       ]
      }
     ],
     "prompt_number": 8
    },
    {
     "cell_type": "markdown",
     "metadata": {},
     "source": [
      "### Implementation: Training and Testing Data Split\n",
      "So far, we have converted all _categorical_ features into numeric values. For the next step, we split the data (both features and corresponding labels) into training and test sets. In the following code cell below, you will need to implement the following:\n",
      "- Randomly shuffle and split the data (`X_all`, `y_all`) into training and testing subsets.\n",
      "  - Use 300 training points (approximately 75%) and 95 testing points (approximately 25%).\n",
      "  - Set a `random_state` for the function(s) you use, if provided.\n",
      "  - Store the results in `X_train`, `X_test`, `y_train`, and `y_test`."
     ]
    },
    {
     "cell_type": "code",
     "collapsed": false,
     "input": [
      "# TODO: Import any additional functionality you may need here\n",
      "random = 123\n",
      "array = np.random.randn(395)\n",
      "ranking = array.argsort()\n",
      "\n",
      "# TODO: Set the number of training points\n",
      "training = ranking < 300\n",
      "testing = ranking >= 300\n",
      "# Set the number of testing points\n",
      "#num_test = X_all.shape[0] - num_train\n",
      "\n",
      "# TODO: Shuffle and split the dataset into the number of training and testing points above\n",
      "X_train = X_all[training]\n",
      "X_test = X_all[testing]\n",
      "y_train = y_all[training]\n",
      "y_test = y_all[testing]\n",
      "\n",
      "# Show the results of the split\n",
      "print \"Training set has {} samples.\".format(X_train.shape[0])\n",
      "print \"Testing set has {} samples.\".format(X_test.shape[0])"
     ],
     "language": "python",
     "metadata": {},
     "outputs": [
      {
       "output_type": "stream",
       "stream": "stdout",
       "text": [
        "Training set has 300 samples.\n",
        "Testing set has 95 samples.\n"
       ]
      }
     ],
     "prompt_number": 9
    },
    {
     "cell_type": "markdown",
     "metadata": {},
     "source": [
      "## Training and Evaluating Models\n",
      "In this section, you will choose 3 supervised learning models that are appropriate for this problem and available in `scikit-learn`. You will first discuss the reasoning behind choosing these three models by considering what you know about the data and each model's strengths and weaknesses. You will then fit the model to varying sizes of training data (100 data points, 200 data points, and 300 data points) and measure the F<sub>1</sub> score. You will need to produce three tables (one for each model) that shows the training set size, training time, prediction time, F<sub>1</sub> score on the training set, and F<sub>1</sub> score on the testing set.\n",
      "\n",
      "**The following supervised learning models are currently available in** [`scikit-learn`](http://scikit-learn.org/stable/supervised_learning.html) **that you may choose from:**\n",
      "- Gaussian Naive Bayes (GaussianNB)\n",
      "- Decision Trees\n",
      "- Ensemble Methods (Bagging, AdaBoost, Random Forest, Gradient Boosting)\n",
      "- K-Nearest Neighbors (KNeighbors)\n",
      "- Stochastic Gradient Descent (SGDC)\n",
      "- Support Vector Machines (SVM)\n",
      "- Logistic Regression"
     ]
    },
    {
     "cell_type": "markdown",
     "metadata": {},
     "source": [
      "### Question 2 - Model Application\n",
      "*List three supervised learning models that are appropriate for this problem. For each model chosen*\n",
      "- Describe one real-world application in industry where the model can be applied. *(You may need to do a small bit of research for this \u2014 give references!)* \n",
      "- What are the strengths of the model; when does it perform well? \n",
      "- What are the weaknesses of the model; when does it perform poorly?\n",
      "- What makes this model a good candidate for the problem, given what you know about the data?"
     ]
    },
    {
     "cell_type": "code",
     "collapsed": false,
     "input": [
      "#Descri\u00e7\u00e3o das vari\u00e1veis categ\u00f3ricas\n",
      "student_data.describe()"
     ],
     "language": "python",
     "metadata": {},
     "outputs": [
      {
       "html": [
        "<div style=\"max-width:1500px;overflow:auto;\">\n",
        "<table border=\"1\" class=\"dataframe\">\n",
        "  <thead>\n",
        "    <tr style=\"text-align: right;\">\n",
        "      <th></th>\n",
        "      <th>age</th>\n",
        "      <th>Medu</th>\n",
        "      <th>Fedu</th>\n",
        "      <th>traveltime</th>\n",
        "      <th>studytime</th>\n",
        "      <th>failures</th>\n",
        "      <th>famrel</th>\n",
        "      <th>freetime</th>\n",
        "      <th>goout</th>\n",
        "      <th>Dalc</th>\n",
        "      <th>Walc</th>\n",
        "      <th>health</th>\n",
        "      <th>absences</th>\n",
        "    </tr>\n",
        "  </thead>\n",
        "  <tbody>\n",
        "    <tr>\n",
        "      <th>count</th>\n",
        "      <td>395.000000</td>\n",
        "      <td>395.000000</td>\n",
        "      <td>395.000000</td>\n",
        "      <td>395.000000</td>\n",
        "      <td>395.000000</td>\n",
        "      <td>395.000000</td>\n",
        "      <td>395.000000</td>\n",
        "      <td>395.000000</td>\n",
        "      <td>395.000000</td>\n",
        "      <td>395.000000</td>\n",
        "      <td>395.000000</td>\n",
        "      <td>395.000000</td>\n",
        "      <td>395.000000</td>\n",
        "    </tr>\n",
        "    <tr>\n",
        "      <th>mean</th>\n",
        "      <td>16.696203</td>\n",
        "      <td>2.749367</td>\n",
        "      <td>2.521519</td>\n",
        "      <td>1.448101</td>\n",
        "      <td>2.035443</td>\n",
        "      <td>0.334177</td>\n",
        "      <td>3.944304</td>\n",
        "      <td>3.235443</td>\n",
        "      <td>3.108861</td>\n",
        "      <td>1.481013</td>\n",
        "      <td>2.291139</td>\n",
        "      <td>3.554430</td>\n",
        "      <td>5.708861</td>\n",
        "    </tr>\n",
        "    <tr>\n",
        "      <th>std</th>\n",
        "      <td>1.276043</td>\n",
        "      <td>1.094735</td>\n",
        "      <td>1.088201</td>\n",
        "      <td>0.697505</td>\n",
        "      <td>0.839240</td>\n",
        "      <td>0.743651</td>\n",
        "      <td>0.896659</td>\n",
        "      <td>0.998862</td>\n",
        "      <td>1.113278</td>\n",
        "      <td>0.890741</td>\n",
        "      <td>1.287897</td>\n",
        "      <td>1.390303</td>\n",
        "      <td>8.003096</td>\n",
        "    </tr>\n",
        "    <tr>\n",
        "      <th>min</th>\n",
        "      <td>15.000000</td>\n",
        "      <td>0.000000</td>\n",
        "      <td>0.000000</td>\n",
        "      <td>1.000000</td>\n",
        "      <td>1.000000</td>\n",
        "      <td>0.000000</td>\n",
        "      <td>1.000000</td>\n",
        "      <td>1.000000</td>\n",
        "      <td>1.000000</td>\n",
        "      <td>1.000000</td>\n",
        "      <td>1.000000</td>\n",
        "      <td>1.000000</td>\n",
        "      <td>0.000000</td>\n",
        "    </tr>\n",
        "    <tr>\n",
        "      <th>25%</th>\n",
        "      <td>16.000000</td>\n",
        "      <td>2.000000</td>\n",
        "      <td>2.000000</td>\n",
        "      <td>1.000000</td>\n",
        "      <td>1.000000</td>\n",
        "      <td>0.000000</td>\n",
        "      <td>4.000000</td>\n",
        "      <td>3.000000</td>\n",
        "      <td>2.000000</td>\n",
        "      <td>1.000000</td>\n",
        "      <td>1.000000</td>\n",
        "      <td>3.000000</td>\n",
        "      <td>0.000000</td>\n",
        "    </tr>\n",
        "    <tr>\n",
        "      <th>50%</th>\n",
        "      <td>17.000000</td>\n",
        "      <td>3.000000</td>\n",
        "      <td>2.000000</td>\n",
        "      <td>1.000000</td>\n",
        "      <td>2.000000</td>\n",
        "      <td>0.000000</td>\n",
        "      <td>4.000000</td>\n",
        "      <td>3.000000</td>\n",
        "      <td>3.000000</td>\n",
        "      <td>1.000000</td>\n",
        "      <td>2.000000</td>\n",
        "      <td>4.000000</td>\n",
        "      <td>4.000000</td>\n",
        "    </tr>\n",
        "    <tr>\n",
        "      <th>75%</th>\n",
        "      <td>18.000000</td>\n",
        "      <td>4.000000</td>\n",
        "      <td>3.000000</td>\n",
        "      <td>2.000000</td>\n",
        "      <td>2.000000</td>\n",
        "      <td>0.000000</td>\n",
        "      <td>5.000000</td>\n",
        "      <td>4.000000</td>\n",
        "      <td>4.000000</td>\n",
        "      <td>2.000000</td>\n",
        "      <td>3.000000</td>\n",
        "      <td>5.000000</td>\n",
        "      <td>8.000000</td>\n",
        "    </tr>\n",
        "    <tr>\n",
        "      <th>max</th>\n",
        "      <td>22.000000</td>\n",
        "      <td>4.000000</td>\n",
        "      <td>4.000000</td>\n",
        "      <td>4.000000</td>\n",
        "      <td>4.000000</td>\n",
        "      <td>3.000000</td>\n",
        "      <td>5.000000</td>\n",
        "      <td>5.000000</td>\n",
        "      <td>5.000000</td>\n",
        "      <td>5.000000</td>\n",
        "      <td>5.000000</td>\n",
        "      <td>5.000000</td>\n",
        "      <td>75.000000</td>\n",
        "    </tr>\n",
        "  </tbody>\n",
        "</table>\n",
        "</div>"
       ],
       "metadata": {},
       "output_type": "pyout",
       "prompt_number": 10,
       "text": [
        "              age        Medu        Fedu  traveltime   studytime    failures  \\\n",
        "count  395.000000  395.000000  395.000000  395.000000  395.000000  395.000000   \n",
        "mean    16.696203    2.749367    2.521519    1.448101    2.035443    0.334177   \n",
        "std      1.276043    1.094735    1.088201    0.697505    0.839240    0.743651   \n",
        "min     15.000000    0.000000    0.000000    1.000000    1.000000    0.000000   \n",
        "25%     16.000000    2.000000    2.000000    1.000000    1.000000    0.000000   \n",
        "50%     17.000000    3.000000    2.000000    1.000000    2.000000    0.000000   \n",
        "75%     18.000000    4.000000    3.000000    2.000000    2.000000    0.000000   \n",
        "max     22.000000    4.000000    4.000000    4.000000    4.000000    3.000000   \n",
        "\n",
        "           famrel    freetime       goout        Dalc        Walc      health  \\\n",
        "count  395.000000  395.000000  395.000000  395.000000  395.000000  395.000000   \n",
        "mean     3.944304    3.235443    3.108861    1.481013    2.291139    3.554430   \n",
        "std      0.896659    0.998862    1.113278    0.890741    1.287897    1.390303   \n",
        "min      1.000000    1.000000    1.000000    1.000000    1.000000    1.000000   \n",
        "25%      4.000000    3.000000    2.000000    1.000000    1.000000    3.000000   \n",
        "50%      4.000000    3.000000    3.000000    1.000000    2.000000    4.000000   \n",
        "75%      5.000000    4.000000    4.000000    2.000000    3.000000    5.000000   \n",
        "max      5.000000    5.000000    5.000000    5.000000    5.000000    5.000000   \n",
        "\n",
        "         absences  \n",
        "count  395.000000  \n",
        "mean     5.708861  \n",
        "std      8.003096  \n",
        "min      0.000000  \n",
        "25%      0.000000  \n",
        "50%      4.000000  \n",
        "75%      8.000000  \n",
        "max     75.000000  "
       ]
      }
     ],
     "prompt_number": 10
    },
    {
     "cell_type": "code",
     "collapsed": false,
     "input": [
      "plt.scatter(X_all[\"Medu\"],X_all[\"absences\"], c = X_all[\"health\"])\n",
      "plt.show()"
     ],
     "language": "python",
     "metadata": {},
     "outputs": [
      {
       "metadata": {},
       "output_type": "display_data",
       "png": "[encoded data removed]",
       "text": [
        "<matplotlib.figure.Figure at 0x12580df0>"
       ]
      }
     ],
     "prompt_number": 25
    },
    {
     "cell_type": "markdown",
     "metadata": {},
     "source": [
      "**Answer: **\n",
      "\n",
      "**Gaussian Naive Bayes**\n",
      "\n",
      "\n",
      "\n",
      "\n",
      "\n"
     ]
    },
    {
     "cell_type": "markdown",
     "metadata": {},
     "source": [
      "### Setup\n",
      "Run the code cell below to initialize three helper functions which you can use for training and testing the three supervised learning models you've chosen above. The functions are as follows:\n",
      "- `train_classifier` - takes as input a classifier and training data and fits the classifier to the data.\n",
      "- `predict_labels` - takes as input a fit classifier, features, and a target labeling and makes predictions using the F<sub>1</sub> score.\n",
      "- `train_predict` - takes as input a classifier, and the training and testing data, and performs `train_clasifier` and `predict_labels`.\n",
      " - This function will report the F<sub>1</sub> score for both the training and testing data separately."
     ]
    },
    {
     "cell_type": "code",
     "collapsed": false,
     "input": [
      "def train_classifier(clf, X_train, y_train):\n",
      "    ''' Fits a classifier to the training data. '''\n",
      "    \n",
      "    # Start the clock, train the classifier, then stop the clock\n",
      "    start = time()\n",
      "    clf.fit(X_train, y_train)\n",
      "    end = time()\n",
      "    \n",
      "    # Print the results\n",
      "    print \"Trained model in {:.4f} seconds\".format(end - start)\n",
      "\n",
      "    \n",
      "def predict_labels(clf, features, target):\n",
      "    ''' Makes predictions using a fit classifier based on F1 score. '''\n",
      "    \n",
      "    # Start the clock, make predictions, then stop the clock\n",
      "    start = time()\n",
      "    y_pred = clf.predict(features)\n",
      "    end = time()\n",
      "    \n",
      "    # Print and return results\n",
      "    print \"Made predictions in {:.4f} seconds.\".format(end - start)\n",
      "    return f1_score(target.values, y_pred, pos_label='yes')\n",
      "\n",
      "\n",
      "def train_predict(clf, X_train, y_train, X_test, y_test):\n",
      "    ''' Train and predict using a classifer based on F1 score. '''\n",
      "    \n",
      "    # Indicate the classifier and the training set size\n",
      "    print \"Training a {} using a training set size of {}. . .\".format(clf.__class__.__name__, len(X_train))\n",
      "    \n",
      "    # Train the classifier\n",
      "    train_classifier(clf, X_train, y_train)\n",
      "    \n",
      "    # Print the results of prediction for both training and testing\n",
      "    print \"F1 score for training set: {:.4f}.\".format(predict_labels(clf, X_train, y_train))\n",
      "    print \"F1 score for test set: {:.4f}.\".format(predict_labels(clf, X_test, y_test))"
     ],
     "language": "python",
     "metadata": {},
     "outputs": [],
     "prompt_number": 63
    },
    {
     "cell_type": "markdown",
     "metadata": {},
     "source": [
      "### Implementation: Model Performance Metrics\n",
      "With the predefined functions above, you will now import the three supervised learning models of your choice and run the `train_predict` function for each one. Remember that you will need to train and predict on each classifier for three different training set sizes: 100, 200, and 300. Hence, you should expect to have 9 different outputs below \u2014 3 for each model using the varying training set sizes. In the following code cell, you will need to implement the following:\n",
      "- Import the three supervised learning models you've discussed in the previous section.\n",
      "- Initialize the three models and store them in `clf_A`, `clf_B`, and `clf_C`.\n",
      " - Use a `random_state` for each model you use, if provided.\n",
      " - **Note:** Use the default settings for each model \u2014 you will tune one specific model in a later section.\n",
      "- Create the different training set sizes to be used to train each model.\n",
      " - *Do not reshuffle and resplit the data! The new training points should be drawn from `X_train` and `y_train`.*\n",
      "- Fit each model with each training set size and make predictions on the test set (9 in total).  \n",
      "**Note:** Three tables are provided after the following code cell which can be used to store your results."
     ]
    },
    {
     "cell_type": "code",
     "collapsed": false,
     "input": [
      "# TODO: Import the three supervised learning models from sklearn\n",
      "# from sklearn import model_A\n",
      "# from sklearn import model_B\n",
      "# from skearln import model_C\n",
      "\n",
      "# TODO: Initialize the three models\n",
      "clf_A = None\n",
      "clf_B = None\n",
      "clf_C = None\n",
      "\n",
      "# TODO: Set up the training set sizes\n",
      "X_train_100 = None\n",
      "y_train_100 = None\n",
      "\n",
      "X_train_200 = None\n",
      "y_train_200 = None\n",
      "\n",
      "X_train_300 = None\n",
      "y_train_300 = None\n",
      "\n",
      "# TODO: Execute the 'train_predict' function for each classifier and each training set size\n",
      "# train_predict(clf, X_train, y_train, X_test, y_test)"
     ],
     "language": "python",
     "metadata": {},
     "outputs": [],
     "prompt_number": null
    },
    {
     "cell_type": "markdown",
     "metadata": {},
     "source": [
      "### Tabular Results\n",
      "Edit the cell below to see how a table can be designed in [Markdown](https://github.com/adam-p/markdown-here/wiki/Markdown-Cheatsheet#tables). You can record your results from above in the tables provided."
     ]
    },
    {
     "cell_type": "markdown",
     "metadata": {},
     "source": [
      "** Classifer 1 - ?**  \n",
      "\n",
      "| Training Set Size | Training Time | Prediction Time (test) | F1 Score (train) | F1 Score (test) |\n",
      "| :---------------: | :---------------------: | :--------------------: | :--------------: | :-------------: |\n",
      "| 100               |                         |                        |                  |                 |\n",
      "| 200               |        EXAMPLE          |                        |                  |                 |\n",
      "| 300               |                         |                        |                  |    EXAMPLE      |\n",
      "\n",
      "** Classifer 2 - ?**  \n",
      "\n",
      "| Training Set Size | Training Time | Prediction Time (test) | F1 Score (train) | F1 Score (test) |\n",
      "| :---------------: | :---------------------: | :--------------------: | :--------------: | :-------------: |\n",
      "| 100               |                         |                        |                  |                 |\n",
      "| 200               |     EXAMPLE             |                        |                  |                 |\n",
      "| 300               |                         |                        |                  |     EXAMPLE     |\n",
      "\n",
      "** Classifer 3 - ?**  \n",
      "\n",
      "| Training Set Size | Training Time | Prediction Time (test) | F1 Score (train) | F1 Score (test) |\n",
      "| :---------------: | :---------------------: | :--------------------: | :--------------: | :-------------: |\n",
      "| 100               |                         |                        |                  |                 |\n",
      "| 200               |                         |                        |                  |                 |\n",
      "| 300               |                         |                        |                  |                 |"
     ]
    },
    {
     "cell_type": "markdown",
     "metadata": {},
     "source": [
      "## Choosing the Best Model\n",
      "In this final section, you will choose from the three supervised learning models the *best* model to use on the student data. You will then perform a grid search optimization for the model over the entire training set (`X_train` and `y_train`) by tuning at least one parameter to improve upon the untuned model's F<sub>1</sub> score. "
     ]
    },
    {
     "cell_type": "markdown",
     "metadata": {},
     "source": [
      "### Question 3 - Choosing the Best Model\n",
      "*Based on the experiments you performed earlier, in one to two paragraphs, explain to the board of supervisors what single model you chose as the best model. Which model is generally the most appropriate based on the available data, limited resources, cost, and performance?*"
     ]
    },
    {
     "cell_type": "markdown",
     "metadata": {},
     "source": [
      "**Answer: **"
     ]
    },
    {
     "cell_type": "markdown",
     "metadata": {},
     "source": [
      "### Question 4 - Model in Layman's Terms\n",
      "*In one to two paragraphs, explain to the board of directors in layman's terms how the final model chosen is supposed to work. Be sure that you are describing the major qualities of the model, such as how the model is trained and how the model makes a prediction. Avoid using advanced mathematical or technical jargon, such as describing equations or discussing the algorithm implementation.*"
     ]
    },
    {
     "cell_type": "markdown",
     "metadata": {},
     "source": [
      "**Answer: **"
     ]
    },
    {
     "cell_type": "markdown",
     "metadata": {},
     "source": [
      "### Implementation: Model Tuning\n",
      "Fine tune the chosen model. Use grid search (`GridSearchCV`) with at least one important parameter tuned with at least 3 different values. You will need to use the entire training set for this. In the code cell below, you will need to implement the following:\n",
      "- Import [`sklearn.grid_search.gridSearchCV`](http://scikit-learn.org/stable/modules/generated/sklearn.grid_search.GridSearchCV.html) and [`sklearn.metrics.make_scorer`](http://scikit-learn.org/stable/modules/generated/sklearn.metrics.make_scorer.html).\n",
      "- Create a dictionary of parameters you wish to tune for the chosen model.\n",
      " - Example: `parameters = {'parameter' : [list of values]}`.\n",
      "- Initialize the classifier you've chosen and store it in `clf`.\n",
      "- Create the F<sub>1</sub> scoring function using `make_scorer` and store it in `f1_scorer`.\n",
      " - Set the `pos_label` parameter to the correct value!\n",
      "- Perform grid search on the classifier `clf` using `f1_scorer` as the scoring method, and store it in `grid_obj`.\n",
      "- Fit the grid search object to the training data (`X_train`, `y_train`), and store it in `grid_obj`."
     ]
    },
    {
     "cell_type": "code",
     "collapsed": false,
     "input": [
      "# TODO: Import 'GridSearchCV' and 'make_scorer'\n",
      "\n",
      "# TODO: Create the parameters list you wish to tune\n",
      "parameters = None\n",
      "\n",
      "# TODO: Initialize the classifier\n",
      "clf = None\n",
      "\n",
      "# TODO: Make an f1 scoring function using 'make_scorer' \n",
      "f1_scorer = None\n",
      "\n",
      "# TODO: Perform grid search on the classifier using the f1_scorer as the scoring method\n",
      "grid_obj = None\n",
      "\n",
      "# TODO: Fit the grid search object to the training data and find the optimal parameters\n",
      "grid_obj = None\n",
      "\n",
      "# Get the estimator\n",
      "clf = grid_obj.best_estimator_\n",
      "\n",
      "# Report the final F1 score for training and testing after parameter tuning\n",
      "print \"Tuned model has a training F1 score of {:.4f}.\".format(predict_labels(clf, X_train, y_train))\n",
      "print \"Tuned model has a testing F1 score of {:.4f}.\".format(predict_labels(clf, X_test, y_test))"
     ],
     "language": "python",
     "metadata": {},
     "outputs": [],
     "prompt_number": null
    },
    {
     "cell_type": "markdown",
     "metadata": {},
     "source": [
      "### Question 5 - Final F<sub>1</sub> Score\n",
      "*What is the final model's F<sub>1</sub> score for training and testing? How does that score compare to the untuned model?*"
     ]
    },
    {
     "cell_type": "markdown",
     "metadata": {},
     "source": [
      "**Answer: **"
     ]
    },
    {
     "cell_type": "markdown",
     "metadata": {},
     "source": [
      "> **Note**: Once you have completed all of the code implementations and successfully answered each question above, you may finalize your work by exporting the iPython Notebook as an HTML document. You can do this by using the menu above and navigating to  \n",
      "**File -> Download as -> HTML (.html)**. Include the finished document along with this notebook as your submission."
     ]
    }
   ],
   "metadata": {}
  }
 ]
}